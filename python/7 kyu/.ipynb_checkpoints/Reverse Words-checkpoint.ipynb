{
 "cells": [
  {
   "cell_type": "markdown",
   "metadata": {},
   "source": [
    "#### REVERSE WORDS"
   ]
  },
  {
   "cell_type": "code",
   "execution_count": 222,
   "metadata": {},
   "outputs": [],
   "source": [
    "import re"
   ]
  },
  {
   "cell_type": "code",
   "execution_count": 233,
   "metadata": {},
   "outputs": [],
   "source": [
    "text = 'Some  text, para locura!!  Azul.'"
   ]
  },
  {
   "cell_type": "code",
   "execution_count": 237,
   "metadata": {},
   "outputs": [],
   "source": [
    "text1 = 'Gato loco mil'"
   ]
  },
  {
   "cell_type": "code",
   "execution_count": 251,
   "metadata": {},
   "outputs": [],
   "source": [
    "import re\n",
    "\n",
    "def reverse_words(text):\n",
    "    rev_word_l = []\n",
    "    try:\n",
    "        words = re.split(r\"\\s{2,}\", text)\n",
    "\n",
    "        for word in words:\n",
    "            rev_word_l.append(word[::-1])\n",
    "\n",
    "        rev_word_l[1] = rev_word_l[1].split(' ')[::-1]\n",
    "        rev_word_l[1] = ' '.join(rev_word_l[1])\n",
    "\n",
    "        return ('  '.join(rev_word_l))\n",
    "    except:\n",
    "        return ' '.join(w[::-1] for w in text.split())"
   ]
  },
  {
   "cell_type": "markdown",
   "metadata": {},
   "source": [
    "<br>"
   ]
  },
  {
   "cell_type": "raw",
   "metadata": {},
   "source": [
    "# elegant solutions\n",
    "\n",
    "def reverse_words(str):\n",
    "    return ' '.join(s[::-1] for s in str.split(' '))\n",
    "\n",
    "\n",
    "\n",
    "import re\n",
    "\n",
    "def reverse_words(str):\n",
    "    return re.sub(r'\\S+', lambda w: w.group(0)[::-1], str)"
   ]
  }
 ],
 "metadata": {
  "kernelspec": {
   "display_name": "Python 3",
   "language": "python",
   "name": "python3"
  },
  "language_info": {
   "codemirror_mode": {
    "name": "ipython",
    "version": 3
   },
   "file_extension": ".py",
   "mimetype": "text/x-python",
   "name": "python",
   "nbconvert_exporter": "python",
   "pygments_lexer": "ipython3",
   "version": "3.7.4"
  }
 },
 "nbformat": 4,
 "nbformat_minor": 2
}
