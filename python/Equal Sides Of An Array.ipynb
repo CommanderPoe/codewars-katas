{
 "cells": [
  {
   "cell_type": "markdown",
   "metadata": {},
   "source": [
    "#### EQUAL SIDES OF AN ARRAY"
   ]
  },
  {
   "cell_type": "code",
   "execution_count": 231,
   "metadata": {},
   "outputs": [],
   "source": [
    "def find_even_index(arr):\n",
    "    sum_at_pos = {}\n",
    "    sum_at_pos_b = {}\n",
    "    \n",
    "    for i, e in enumerate(arr):\n",
    "        if i == 0: \n",
    "            sum_at_pos[i] = e \n",
    "        else:\n",
    "            sum_at_pos[i] = e + sum_at_pos[i - 1]\n",
    "        \n",
    "    for i, e in reversed(list(enumerate(arr))):\n",
    "        try:\n",
    "            sum_at_pos_b[i] = e + sum_at_pos_b[i + 1]\n",
    "        except:\n",
    "            sum_at_pos_b[i] = e\n",
    "            \n",
    "    #print (sum_at_pos, sum_at_pos_b)\n",
    "            \n",
    "    for k, v in sum_at_pos.items():\n",
    "        if v == sum_at_pos_b[k]:\n",
    "            return k\n",
    "        \n",
    "        \n",
    "    return -1"
   ]
  },
  {
   "cell_type": "code",
   "execution_count": 232,
   "metadata": {},
   "outputs": [
    {
     "data": {
      "text/plain": [
       "3"
      ]
     },
     "execution_count": 232,
     "metadata": {},
     "output_type": "execute_result"
    }
   ],
   "source": [
    "find_even_index(lol7)"
   ]
  },
  {
   "cell_type": "markdown",
   "metadata": {},
   "source": [
    "<br>"
   ]
  },
  {
   "cell_type": "raw",
   "metadata": {},
   "source": [
    "#### elegant solutions\n",
    "\n",
    "def find_even_index(arr):\n",
    "    for i in range(len(arr)):\n",
    "        if sum(arr[:i]) == sum(arr[i+1:]):\n",
    "            return i\n",
    "    return -1\n",
    "    \n",
    "\n",
    "def find_even_index(lst):\n",
    "    left_sum = 0\n",
    "    right_sum = sum(lst)\n",
    "    for i, a in enumerate(lst):\n",
    "        right_sum -= a\n",
    "        if left_sum == right_sum:\n",
    "            return i\n",
    "        left_sum += a\n",
    "    return -1"
   ]
  },
  {
   "cell_type": "code",
   "execution_count": null,
   "metadata": {},
   "outputs": [],
   "source": []
  },
  {
   "cell_type": "code",
   "execution_count": null,
   "metadata": {},
   "outputs": [],
   "source": []
  },
  {
   "cell_type": "code",
   "execution_count": 223,
   "metadata": {},
   "outputs": [],
   "source": [
    "lol = [1,2,3,4,3,2,1]\n",
    "lol1 = [1,100,50,-51,1,1]\n",
    "lol2 = [1,2,3,4,5,6]\n",
    "lol3 = [20,10,30,10,10,15,35]\n",
    "lol4 = [20,10,-80,10,10,15,35]\n",
    "lol5 = [10,-80,10,10,15,35,20]\n",
    "lol6 = list(range(1,100))\n",
    "lol7 = [0,0,0,0,0]\n",
    "lol7 = [-1,-2,-3,-4,-3,-2,-1]\n",
    "lol8 = [-1,-2,-3,-4,-3,-2,-1]\n",
    "lol9 = list(range(-100,-1))"
   ]
  }
 ],
 "metadata": {
  "kernelspec": {
   "display_name": "Python 3",
   "language": "python",
   "name": "python3"
  },
  "language_info": {
   "codemirror_mode": {
    "name": "ipython",
    "version": 3
   },
   "file_extension": ".py",
   "mimetype": "text/x-python",
   "name": "python",
   "nbconvert_exporter": "python",
   "pygments_lexer": "ipython3",
   "version": "3.7.4"
  }
 },
 "nbformat": 4,
 "nbformat_minor": 2
}
