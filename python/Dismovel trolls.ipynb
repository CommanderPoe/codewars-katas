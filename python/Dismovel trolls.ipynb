{
 "cells": [
  {
   "cell_type": "markdown",
   "metadata": {},
   "source": [
    "#### DISMOVEL TROLLS"
   ]
  },
  {
   "cell_type": "code",
   "execution_count": 2,
   "metadata": {},
   "outputs": [],
   "source": [
    "import regex as re\n",
    "\n",
    "def disemvowel(string_):\n",
    "    \n",
    "    return re.sub(r'[AEIOU]', '', string_, flags=re.IGNORECASE)\n",
    "    \n",
    "    #return ''.join([x for x in string_ if x not in vowels])"
   ]
  },
  {
   "cell_type": "markdown",
   "metadata": {},
   "source": [
    "<br>"
   ]
  },
  {
   "cell_type": "raw",
   "metadata": {},
   "source": [
    "#### elegant solutions\n",
    "\n",
    "def disemvowel(s):\n",
    "    return s.translate(None, \"aeiouAEIOU\")\n",
    "\n",
    "\n",
    "def disemvowel(string):\n",
    "    return \"\".join(c for c in string if c.lower() not in \"aeiou\")"
   ]
  }
 ],
 "metadata": {
  "kernelspec": {
   "display_name": "Python 3",
   "language": "python",
   "name": "python3"
  },
  "language_info": {
   "codemirror_mode": {
    "name": "ipython",
    "version": 3
   },
   "file_extension": ".py",
   "mimetype": "text/x-python",
   "name": "python",
   "nbconvert_exporter": "python",
   "pygments_lexer": "ipython3",
   "version": "3.7.4"
  }
 },
 "nbformat": 4,
 "nbformat_minor": 2
}
