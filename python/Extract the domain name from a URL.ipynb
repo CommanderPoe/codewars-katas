{
 "cells": [
  {
   "cell_type": "markdown",
   "metadata": {},
   "source": [
    "#### EXTRACT THE DOMAIN NAME FROM A URL"
   ]
  },
  {
   "cell_type": "code",
   "execution_count": 47,
   "metadata": {},
   "outputs": [],
   "source": [
    "import re"
   ]
  },
  {
   "cell_type": "code",
   "execution_count": 157,
   "metadata": {},
   "outputs": [],
   "source": [
    "url = \"http://github.com/carbonfive/raygun\"\n",
    "url1 = \"http://www.zombie-bites.com\"\n",
    "url2 = \"https://www.cnet.com\""
   ]
  },
  {
   "cell_type": "code",
   "execution_count": 159,
   "metadata": {},
   "outputs": [],
   "source": [
    "def domain_name(url):\n",
    "    if ('//' and 'www') in url:\n",
    "        url = url.split('.')[1]\n",
    "        return (url)\n",
    "    \n",
    "    elif '//' in url:\n",
    "        url = url.split('//')[1].split('.')[0]\n",
    "        return (url)\n",
    "    \n",
    "    else:\n",
    "        url = url.split('.')\n",
    "        return url[1]"
   ]
  },
  {
   "cell_type": "code",
   "execution_count": 162,
   "metadata": {},
   "outputs": [
    {
     "data": {
      "text/plain": [
       "'cnet'"
      ]
     },
     "execution_count": 162,
     "metadata": {},
     "output_type": "execute_result"
    }
   ],
   "source": [
    "domain_name(url2)"
   ]
  },
  {
   "cell_type": "code",
   "execution_count": 135,
   "metadata": {},
   "outputs": [
    {
     "name": "stdout",
     "output_type": "stream",
     "text": [
      "cnet\n"
     ]
    }
   ],
   "source": [
    "if ('//' and 'ww') in url2:\n",
    "    url2 = url2.split('.')[1]\n",
    "    print (url2)"
   ]
  },
  {
   "cell_type": "code",
   "execution_count": 149,
   "metadata": {},
   "outputs": [
    {
     "name": "stdout",
     "output_type": "stream",
     "text": [
      "github\n"
     ]
    }
   ],
   "source": [
    "if '//' in url:\n",
    "        url = url.split('//')[1].split('.')[0]\n",
    "        print (url)"
   ]
  }
 ],
 "metadata": {
  "kernelspec": {
   "display_name": "Python 3",
   "language": "python",
   "name": "python3"
  },
  "language_info": {
   "codemirror_mode": {
    "name": "ipython",
    "version": 3
   },
   "file_extension": ".py",
   "mimetype": "text/x-python",
   "name": "python",
   "nbconvert_exporter": "python",
   "pygments_lexer": "ipython3",
   "version": "3.7.4"
  }
 },
 "nbformat": 4,
 "nbformat_minor": 2
}
