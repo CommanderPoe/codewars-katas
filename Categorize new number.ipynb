{
 "cells": [
  {
   "cell_type": "markdown",
   "metadata": {},
   "source": [
    "#### OPEN OR SENIOR"
   ]
  },
  {
   "cell_type": "code",
   "execution_count": null,
   "metadata": {},
   "outputs": [],
   "source": [
    "def open_or_senior(data):\n",
    "    \n",
    "    final_result= []\n",
    "    \n",
    "    for lists in data:\n",
    "        if (lists[0] >= 55 and lists[1] >= 9):\n",
    "            final_result.append('Senior')\n",
    "        else:\n",
    "            final_result.append('Open')\n",
    "            \n",
    "    return final_result"
   ]
  }
 ],
 "metadata": {
  "kernelspec": {
   "display_name": "Python 3",
   "language": "python",
   "name": "python3"
  },
  "language_info": {
   "codemirror_mode": {
    "name": "ipython",
    "version": 3
   },
   "file_extension": ".py",
   "mimetype": "text/x-python",
   "name": "python",
   "nbconvert_exporter": "python",
   "pygments_lexer": "ipython3",
   "version": "3.7.4"
  }
 },
 "nbformat": 4,
 "nbformat_minor": 2
}
